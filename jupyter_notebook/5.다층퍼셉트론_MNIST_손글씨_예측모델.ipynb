{
 "cells": [
  {
   "cell_type": "code",
   "execution_count": 1,
   "metadata": {},
   "outputs": [],
   "source": [
    "import tensorflow as tf\n",
    "import numpy as np\n",
    "from IPython.display import Image"
   ]
  },
  {
   "cell_type": "markdown",
   "metadata": {},
   "source": [
    "# 다층퍼셉트론 구조\n",
    "텐서플로우로 아래의 다층퍼셉트론을 구현해보도록 하겠습니다."
   ]
  },
  {
   "cell_type": "code",
   "execution_count": 2,
   "metadata": {},
   "outputs": [
    {
     "data": {
      "text/html": [
       "<img src=\"https://raw.githubusercontent.com/minsuk-heo/deeplearning/master/img/dropout.png\" width=\"500\" height=\"250\"/>"
      ],
      "text/plain": [
       "<IPython.core.display.Image object>"
      ]
     },
     "execution_count": 2,
     "metadata": {},
     "output_type": "execute_result"
    }
   ],
   "source": [
    "Image(url= \"https://raw.githubusercontent.com/minsuk-heo/deeplearning/master/img/dropout.png\", width=500, height=250)"
   ]
  },
  {
   "cell_type": "markdown",
   "metadata": {},
   "source": [
    "# MNIST 데이터 불러오기"
   ]
  },
  {
   "cell_type": "code",
   "execution_count": 3,
   "metadata": {},
   "outputs": [],
   "source": [
    "(x_train, y_train), (x_test, y_test) = tf.keras.datasets.mnist.load_data()"
   ]
  },
  {
   "cell_type": "code",
   "execution_count": 4,
   "metadata": {},
   "outputs": [
    {
     "name": "stdout",
     "output_type": "stream",
     "text": [
      "(60000, 28, 28)\n",
      "(10000, 28, 28)\n"
     ]
    }
   ],
   "source": [
    "print(x_train.shape)\n",
    "print(x_test.shape)"
   ]
  },
  {
   "cell_type": "markdown",
   "metadata": {},
   "source": [
    "# 학습데이터에서 검증 데이터 분리하기"
   ]
  },
  {
   "cell_type": "code",
   "execution_count": 5,
   "metadata": {},
   "outputs": [],
   "source": [
    "x_val  = x_train[50000:60000]\n",
    "x_train = x_train[0:50000]\n",
    "y_val  = y_train[50000:60000]\n",
    "y_train = y_train[0:50000]"
   ]
  },
  {
   "cell_type": "code",
   "execution_count": 6,
   "metadata": {},
   "outputs": [
    {
     "name": "stdout",
     "output_type": "stream",
     "text": [
      "train data has 50000 samples\n",
      "every train data is 28 * 28 image\n"
     ]
    }
   ],
   "source": [
    "print(\"train data has \" + str(x_train.shape[0]) + \" samples\")\n",
    "print(\"every train data is \" + str(x_train.shape[1]) \n",
    "      + \" * \" + str(x_train.shape[2]) + \" image\")"
   ]
  },
  {
   "cell_type": "code",
   "execution_count": 7,
   "metadata": {},
   "outputs": [
    {
     "name": "stdout",
     "output_type": "stream",
     "text": [
      "validation data has 10000 samples\n",
      "every train data is 28 * 28 image\n"
     ]
    }
   ],
   "source": [
    "print(\"validation data has \" + str(x_val.shape[0]) + \" samples\")\n",
    "print(\"every train data is \" + str(x_val.shape[1]) \n",
    "      + \" * \" + str(x_train.shape[2]) + \" image\")"
   ]
  },
  {
   "cell_type": "markdown",
   "metadata": {},
   "source": [
    "**0** 부터 **255** 까지의 그레이 스케일을 확인할 수 있습니다."
   ]
  },
  {
   "cell_type": "code",
   "execution_count": 8,
   "metadata": {},
   "outputs": [
    {
     "name": "stdout",
     "output_type": "stream",
     "text": [
      "[  0   0   0   0   0   0   0  18 219 253 253 253 253 253 198 182 247 241\n",
      "   0   0   0   0   0   0   0   0   0   0]\n"
     ]
    }
   ],
   "source": [
    "# sample to show gray scale values\n",
    "print(x_train[0][8])"
   ]
  },
  {
   "cell_type": "markdown",
   "metadata": {},
   "source": [
    "**0** 부터 **9**까지의 이미지에 해당하는 숫자를 확인할 수 있습니다."
   ]
  },
  {
   "cell_type": "code",
   "execution_count": 9,
   "metadata": {},
   "outputs": [
    {
     "name": "stdout",
     "output_type": "stream",
     "text": [
      "[5 0 4 1 9 2 1 3 1]\n"
     ]
    }
   ],
   "source": [
    "# sample to show labels for first train data to 10th train data\n",
    "print(y_train[0:9])"
   ]
  },
  {
   "cell_type": "markdown",
   "metadata": {},
   "source": [
    "테스트 데이터는 **10000** 개의 샘플을 가지고 있습니다.  \n",
    "모든 테스트 데이터는 **28 * 28** 의 이미지입니다.  "
   ]
  },
  {
   "cell_type": "code",
   "execution_count": 10,
   "metadata": {},
   "outputs": [
    {
     "name": "stdout",
     "output_type": "stream",
     "text": [
      "test data has 10000 samples\n",
      "every test data is 28 * 28 image\n"
     ]
    }
   ],
   "source": [
    "print(\"test data has \" + str(x_test.shape[0]) + \" samples\")\n",
    "print(\"every test data is \" + str(x_test.shape[1]) \n",
    "      + \" * \" + str(x_test.shape[2]) + \" image\")"
   ]
  },
  {
   "cell_type": "markdown",
   "metadata": {},
   "source": [
    "# 데이터 구조 변경하기\n",
    "다층퍼셉트론의 입력 레이어에 데이터를 넣기 위해서 2d tensor (28, 28)인 데이터를,  \n",
    "1d tensor (28*28, 1)의  형태로 바꿔줍니다.  \n",
    "이 말은 행렬 형태의 데이터를 배열 형태의 데이터로 변경한다는 의미와 같습니다."
   ]
  },
  {
   "cell_type": "code",
   "execution_count": 11,
   "metadata": {},
   "outputs": [
    {
     "data": {
      "text/html": [
       "<img src=\"https://raw.githubusercontent.com/minsuk-heo/deeplearning/master/img/reshape_mnist.png\" width=\"500\" height=\"250\"/>"
      ],
      "text/plain": [
       "<IPython.core.display.Image object>"
      ]
     },
     "execution_count": 11,
     "metadata": {},
     "output_type": "execute_result"
    }
   ],
   "source": [
    "Image(url= \"https://raw.githubusercontent.com/minsuk-heo/deeplearning/master/img/reshape_mnist.png\", width=500, height=250)"
   ]
  },
  {
   "cell_type": "code",
   "execution_count": 12,
   "metadata": {},
   "outputs": [
    {
     "name": "stdout",
     "output_type": "stream",
     "text": [
      "(50000, 784)\n",
      "(10000, 784)\n"
     ]
    }
   ],
   "source": [
    "x_train = x_train.reshape(50000, 784)\n",
    "x_val = x_val.reshape(10000, 784)\n",
    "x_test = x_test.reshape(10000, 784)\n",
    "\n",
    "print(x_train.shape)\n",
    "print(x_test.shape)"
   ]
  },
  {
   "cell_type": "code",
   "execution_count": 13,
   "metadata": {},
   "outputs": [
    {
     "data": {
      "text/plain": [
       "array([  0,   0,   0,   0,   0,   0,   0,   0,   0,   0,   0,   0,   0,\n",
       "         0,   0,   0,   0,   0,   0,   0,   0,   0,   0,   0,   0,   0,\n",
       "         0,   0,   0,   0,   0,   0,   0,   0,   0,   0,   0,   0,   0,\n",
       "         0,   0,   0,   0,   0,   0,   0,   0,   0,   0,   0,   0,   0,\n",
       "         0,   0,   0,   0,   0,   0,   0,   0,   0,   0,   0,   0,   0,\n",
       "         0,   0,   0,   0,   0,   0,   0,   0,   0,   0,   0,   0,   0,\n",
       "         0,   0,   0,   0,   0,   0,   0,   0,   0,   0,   0,   0,   0,\n",
       "         0,   0,   0,   0,   0,   0,   0,   0,   0,   0,   0,   0,   0,\n",
       "         0,   0,   0,   0,   0,   0,   0,   0,   0,   0,   0,   0,   0,\n",
       "         0,   0,   0,   0,   0,   0,   0,   0,   0,   0,   0,   0,   0,\n",
       "         0,   0,   0,   0,   0,   0,   0,   0,   0,   0,   0,   0,   0,\n",
       "         0,   0,   0,   0,   0,   0,   0,   0,   0,   3,  18,  18,  18,\n",
       "       126, 136, 175,  26, 166, 255, 247, 127,   0,   0,   0,   0,   0,\n",
       "         0,   0,   0,   0,   0,   0,   0,  30,  36,  94, 154, 170, 253,\n",
       "       253, 253, 253, 253, 225, 172, 253, 242, 195,  64,   0,   0,   0,\n",
       "         0,   0,   0,   0,   0,   0,   0,   0,  49, 238, 253, 253, 253,\n",
       "       253, 253, 253, 253, 253, 251,  93,  82,  82,  56,  39,   0,   0,\n",
       "         0,   0,   0,   0,   0,   0,   0,   0,   0,   0,  18, 219, 253,\n",
       "       253, 253, 253, 253, 198, 182, 247, 241,   0,   0,   0,   0,   0,\n",
       "         0,   0,   0,   0,   0,   0,   0,   0,   0,   0,   0,   0,   0,\n",
       "        80, 156, 107, 253, 253, 205,  11,   0,  43, 154,   0,   0,   0,\n",
       "         0,   0,   0,   0,   0,   0,   0,   0,   0,   0,   0,   0,   0,\n",
       "         0,   0,   0,  14,   1, 154, 253,  90,   0,   0,   0,   0,   0,\n",
       "         0,   0,   0,   0,   0,   0,   0,   0,   0,   0,   0,   0,   0,\n",
       "         0,   0,   0,   0,   0,   0,   0, 139, 253, 190,   2,   0,   0,\n",
       "         0,   0,   0,   0,   0,   0,   0,   0,   0,   0,   0,   0,   0,\n",
       "         0,   0,   0,   0,   0,   0,   0,   0,   0,  11, 190, 253,  70,\n",
       "         0,   0,   0,   0,   0,   0,   0,   0,   0,   0,   0,   0,   0,\n",
       "         0,   0,   0,   0,   0,   0,   0,   0,   0,   0,   0,   0,  35,\n",
       "       241, 225, 160, 108,   1,   0,   0,   0,   0,   0,   0,   0,   0,\n",
       "         0,   0,   0,   0,   0,   0,   0,   0,   0,   0,   0,   0,   0,\n",
       "         0,   0,  81, 240, 253, 253, 119,  25,   0,   0,   0,   0,   0,\n",
       "         0,   0,   0,   0,   0,   0,   0,   0,   0,   0,   0,   0,   0,\n",
       "         0,   0,   0,   0,   0,  45, 186, 253, 253, 150,  27,   0,   0,\n",
       "         0,   0,   0,   0,   0,   0,   0,   0,   0,   0,   0,   0,   0,\n",
       "         0,   0,   0,   0,   0,   0,   0,   0,  16,  93, 252, 253, 187,\n",
       "         0,   0,   0,   0,   0,   0,   0,   0,   0,   0,   0,   0,   0,\n",
       "         0,   0,   0,   0,   0,   0,   0,   0,   0,   0,   0,   0, 249,\n",
       "       253, 249,  64,   0,   0,   0,   0,   0,   0,   0,   0,   0,   0,\n",
       "         0,   0,   0,   0,   0,   0,   0,   0,   0,   0,   0,  46, 130,\n",
       "       183, 253, 253, 207,   2,   0,   0,   0,   0,   0,   0,   0,   0,\n",
       "         0,   0,   0,   0,   0,   0,   0,   0,   0,   0,   0,  39, 148,\n",
       "       229, 253, 253, 253, 250, 182,   0,   0,   0,   0,   0,   0,   0,\n",
       "         0,   0,   0,   0,   0,   0,   0,   0,   0,   0,   0,  24, 114,\n",
       "       221, 253, 253, 253, 253, 201,  78,   0,   0,   0,   0,   0,   0,\n",
       "         0,   0,   0,   0,   0,   0,   0,   0,   0,   0,   0,  23,  66,\n",
       "       213, 253, 253, 253, 253, 198,  81,   2,   0,   0,   0,   0,   0,\n",
       "         0,   0,   0,   0,   0,   0,   0,   0,   0,   0,   0,  18, 171,\n",
       "       219, 253, 253, 253, 253, 195,  80,   9,   0,   0,   0,   0,   0,\n",
       "         0,   0,   0,   0,   0,   0,   0,   0,   0,   0,   0,  55, 172,\n",
       "       226, 253, 253, 253, 253, 244, 133,  11,   0,   0,   0,   0,   0,\n",
       "         0,   0,   0,   0,   0,   0,   0,   0,   0,   0,   0,   0,   0,\n",
       "       136, 253, 253, 253, 212, 135, 132,  16,   0,   0,   0,   0,   0,\n",
       "         0,   0,   0,   0,   0,   0,   0,   0,   0,   0,   0,   0,   0,\n",
       "         0,   0,   0,   0,   0,   0,   0,   0,   0,   0,   0,   0,   0,\n",
       "         0,   0,   0,   0,   0,   0,   0,   0,   0,   0,   0,   0,   0,\n",
       "         0,   0,   0,   0,   0,   0,   0,   0,   0,   0,   0,   0,   0,\n",
       "         0,   0,   0,   0,   0,   0,   0,   0,   0,   0,   0,   0,   0,\n",
       "         0,   0,   0,   0,   0,   0,   0,   0,   0,   0,   0,   0,   0,\n",
       "         0,   0,   0,   0,   0,   0,   0,   0,   0,   0,   0,   0,   0,\n",
       "         0,   0,   0,   0], dtype=uint8)"
      ]
     },
     "execution_count": 13,
     "metadata": {},
     "output_type": "execute_result"
    }
   ],
   "source": [
    "x_train[0]"
   ]
  },
  {
   "cell_type": "markdown",
   "metadata": {},
   "source": [
    "# 데이터 정규화\n",
    "데이터 정규화는 보통 학습 시간을 단축하고, 더 나은 성능을 구하도록 도와줍니다.  \n",
    "MNIST 데이터의 모든 값은 0부터 255의 범위 안에 있으므로, 255로 값을 나눠줌으로써, 모든 값을 0부터 1 사이의 값으로 정규화합니다.  "
   ]
  },
  {
   "cell_type": "code",
   "execution_count": 14,
   "metadata": {},
   "outputs": [],
   "source": [
    "x_train = x_train.astype('float32')\n",
    "x_val = x_val.astype('float32')\n",
    "x_test = x_test.astype('float32')\n",
    "\n",
    "gray_scale = 255\n",
    "x_train /= gray_scale\n",
    "x_val /= gray_scale\n",
    "x_test /= gray_scale"
   ]
  },
  {
   "cell_type": "markdown",
   "metadata": {},
   "source": [
    "# 실제값을 one hot encoding으로 변경하기\n",
    "손실 함수에서 크로스 엔트로피를 계산하기 위해, 실제값은 one hot encoding 값으로 변경합니다."
   ]
  },
  {
   "cell_type": "code",
   "execution_count": 15,
   "metadata": {},
   "outputs": [],
   "source": [
    "num_classes = 10\n",
    "y_train = tf.keras.utils.to_categorical(y_train, num_classes)\n",
    "y_val = tf.keras.utils.to_categorical(y_val, num_classes)\n",
    "y_test = tf.keras.utils.to_categorical(y_test, num_classes)"
   ]
  },
  {
   "cell_type": "code",
   "execution_count": 16,
   "metadata": {},
   "outputs": [
    {
     "data": {
      "text/plain": [
       "array([[0., 0., 0., ..., 0., 0., 0.],\n",
       "       [1., 0., 0., ..., 0., 0., 0.],\n",
       "       [0., 0., 0., ..., 0., 0., 0.],\n",
       "       ...,\n",
       "       [0., 0., 0., ..., 0., 1., 0.],\n",
       "       [0., 0., 0., ..., 0., 0., 0.],\n",
       "       [0., 0., 0., ..., 0., 1., 0.]])"
      ]
     },
     "execution_count": 16,
     "metadata": {},
     "output_type": "execute_result"
    }
   ],
   "source": [
    "y_train"
   ]
  },
  {
   "cell_type": "markdown",
   "metadata": {},
   "source": [
    "# 텐서플로우 다층퍼셉트론 그래프 구현하기\n",
    "텐서플로우로 아래의 다층퍼셉트론을 구현해보도록 하겠습니다."
   ]
  },
  {
   "cell_type": "code",
   "execution_count": 17,
   "metadata": {},
   "outputs": [
    {
     "data": {
      "text/html": [
       "<img src=\"https://raw.githubusercontent.com/minsuk-heo/deeplearning/master/img/dropout.png\" width=\"500\" height=\"250\"/>"
      ],
      "text/plain": [
       "<IPython.core.display.Image object>"
      ]
     },
     "execution_count": 17,
     "metadata": {},
     "output_type": "execute_result"
    }
   ],
   "source": [
    "Image(url= \"https://raw.githubusercontent.com/minsuk-heo/deeplearning/master/img/dropout.png\", width=500, height=250)"
   ]
  },
  {
   "cell_type": "markdown",
   "metadata": {},
   "source": [
    "# 드랍 아웃 (Drop Out)"
   ]
  },
  {
   "cell_type": "code",
   "execution_count": 18,
   "metadata": {},
   "outputs": [],
   "source": [
    "x = tf.placeholder(tf.float32, [None, 784])\n",
    "y = tf.placeholder(tf.float32, [None, 10])\n",
    "keep_prob = tf.placeholder(tf.float32)"
   ]
  },
  {
   "cell_type": "markdown",
   "metadata": {},
   "source": [
    "아래 하든 레이어2(h2)에 드랍아웃을 적용합니다.\n",
    "keep_prob의 값은 모델을 학습 또는 테스트할 때 결정합니다."
   ]
  },
  {
   "cell_type": "code",
   "execution_count": 19,
   "metadata": {},
   "outputs": [],
   "source": [
    "def mlp(x):\n",
    "    # hidden layer1\n",
    "    w1 = tf.Variable(tf.random_uniform([784,256]))\n",
    "    b1 = tf.Variable(tf.zeros([256]))\n",
    "    h1 = tf.nn.relu(tf.matmul(x, w1) + b1)\n",
    "    # hidden layer2\n",
    "    w2 = tf.Variable(tf.random_uniform([256,128]))\n",
    "    b2 = tf.Variable(tf.zeros([128]))\n",
    "    h2 = tf.nn.relu(tf.matmul(h1, w2) + b2)\n",
    "    h2_drop = tf.nn.dropout(h2, keep_prob)\n",
    "    # output layer\n",
    "    w3 = tf.Variable(tf.random_uniform([128,10]))\n",
    "    b3 = tf.Variable(tf.zeros([10]))\n",
    "    logits= tf.matmul(h2_drop, w3) + b3\n",
    "    \n",
    "    return logits"
   ]
  },
  {
   "cell_type": "code",
   "execution_count": 20,
   "metadata": {},
   "outputs": [],
   "source": [
    "logits = mlp(x)"
   ]
  },
  {
   "cell_type": "code",
   "execution_count": 21,
   "metadata": {},
   "outputs": [],
   "source": [
    "loss_op = tf.reduce_mean(tf.nn.softmax_cross_entropy_with_logits_v2(\n",
    "    logits=logits, labels=y))"
   ]
  },
  {
   "cell_type": "code",
   "execution_count": 22,
   "metadata": {},
   "outputs": [],
   "source": [
    "train_op = tf.train.AdamOptimizer(learning_rate=0.01).minimize(loss_op)"
   ]
  },
  {
   "cell_type": "markdown",
   "metadata": {},
   "source": [
    "# 조기 종료 (Early Stopping)"
   ]
  },
  {
   "cell_type": "markdown",
   "metadata": {},
   "source": [
    "매 주기(Epoch)마다 검증 데이터로 검증 정확도를 측정합니다.  \n",
    "검증 정확도가 5번 연속으로 최고 검증 정확도보다 높지 않을 때 조기 종료를 수행합니다."
   ]
  },
  {
   "cell_type": "code",
   "execution_count": 23,
   "metadata": {},
   "outputs": [],
   "source": [
    "# initialize\n",
    "init = tf.global_variables_initializer()\n",
    "\n",
    "# Add ops to save and restore all the variables.\n",
    "saver = tf.train.Saver()\n",
    "\n",
    "# train hyperparameters\n",
    "epoch_cnt = 300\n",
    "batch_size = 1000\n",
    "iteration = len(x_train) // batch_size\n",
    "\n",
    "earlystop_threshold = 5\n",
    "earlystop_cnt = 0"
   ]
  },
  {
   "cell_type": "markdown",
   "metadata": {},
   "source": [
    "데이터를 모델에 입력시킬 때(feed), 드랍아웃이 있을 경우, 항상 keep_prob를 설정해주셔야합니다.  \n",
    "학습 시, 10%의 드랍아웃을 하기 위해, keep_prob를 0.9로 설정합니다.  \n",
    "테스트 시, 드랍 아웃을 사용하지 않을 것이므로, keep_prob를 1.0으로 설정합니다."
   ]
  },
  {
   "cell_type": "code",
   "execution_count": 24,
   "metadata": {},
   "outputs": [
    {
     "name": "stdout",
     "output_type": "stream",
     "text": [
      "epoch: 0, train acc: 0.21114, val acc: 0.2202\n",
      "epoch: 1, train acc: 0.59308, val acc: 0.6089\n",
      "epoch: 2, train acc: 0.63722, val acc: 0.6526\n",
      "epoch: 3, train acc: 0.66614, val acc: 0.6833\n",
      "epoch: 4, train acc: 0.70422, val acc: 0.7223\n",
      "epoch: 5, train acc: 0.73572, val acc: 0.7481\n",
      "epoch: 6, train acc: 0.76096, val acc: 0.771\n",
      "epoch: 7, train acc: 0.7825, val acc: 0.7907\n",
      "epoch: 8, train acc: 0.80076, val acc: 0.8099\n",
      "epoch: 9, train acc: 0.81758, val acc: 0.8231\n",
      "epoch: 10, train acc: 0.83212, val acc: 0.8361\n",
      "epoch: 11, train acc: 0.8427, val acc: 0.8437\n",
      "epoch: 12, train acc: 0.85278, val acc: 0.8522\n",
      "epoch: 13, train acc: 0.86016, val acc: 0.8582\n",
      "epoch: 14, train acc: 0.86798, val acc: 0.8673\n",
      "epoch: 15, train acc: 0.87402, val acc: 0.8724\n",
      "epoch: 16, train acc: 0.87958, val acc: 0.8777\n",
      "epoch: 17, train acc: 0.88534, val acc: 0.8813\n",
      "epoch: 18, train acc: 0.8883, val acc: 0.8849\n",
      "epoch: 19, train acc: 0.8946, val acc: 0.8886\n",
      "epoch: 20, train acc: 0.89924, val acc: 0.8916\n",
      "epoch: 21, train acc: 0.90232, val acc: 0.8936\n",
      "epoch: 22, train acc: 0.90468, val acc: 0.8969\n",
      "epoch: 23, train acc: 0.9082, val acc: 0.8998\n",
      "epoch: 24, train acc: 0.91004, val acc: 0.9035\n",
      "epoch: 25, train acc: 0.913, val acc: 0.9053\n",
      "epoch: 26, train acc: 0.9157, val acc: 0.9064\n",
      "epoch: 27, train acc: 0.91872, val acc: 0.9083\n",
      "epoch: 28, train acc: 0.91952, val acc: 0.9107\n",
      "epoch: 29, train acc: 0.92154, val acc: 0.9117\n",
      "epoch: 30, train acc: 0.92422, val acc: 0.9121\n",
      "epoch: 31, train acc: 0.92638, val acc: 0.916\n",
      "epoch: 32, train acc: 0.9287, val acc: 0.917\n",
      "epoch: 33, train acc: 0.92992, val acc: 0.9173\n",
      "epoch: 34, train acc: 0.9309, val acc: 0.9194\n",
      "epoch: 35, train acc: 0.933, val acc: 0.9205\n",
      "epoch: 36, train acc: 0.93424, val acc: 0.9207\n",
      "epoch: 37, train acc: 0.93552, val acc: 0.9216\n",
      "epoch: 38, train acc: 0.93682, val acc: 0.9225\n",
      "epoch: 39, train acc: 0.93882, val acc: 0.9233\n",
      "epoch: 40, train acc: 0.94018, val acc: 0.9246\n",
      "epoch: 41, train acc: 0.9414, val acc: 0.9256\n",
      "epoch: 42, train acc: 0.94246, val acc: 0.926\n",
      "epoch: 43, train acc: 0.94398, val acc: 0.9277\n",
      "epoch: 44, train acc: 0.94502, val acc: 0.928\n",
      "epoch: 45, train acc: 0.94602, val acc: 0.9282\n",
      "epoch: 46, train acc: 0.94698, val acc: 0.9291\n",
      "epoch: 47, train acc: 0.94808, val acc: 0.9299\n",
      "epoch: 48, train acc: 0.94942, val acc: 0.9293\n",
      "overfitting warning: 0\n",
      "epoch: 49, train acc: 0.95054, val acc: 0.9309\n",
      "epoch: 50, train acc: 0.95084, val acc: 0.9304\n",
      "overfitting warning: 0\n",
      "epoch: 51, train acc: 0.9522, val acc: 0.9326\n",
      "epoch: 52, train acc: 0.95334, val acc: 0.9335\n",
      "epoch: 53, train acc: 0.95442, val acc: 0.9332\n",
      "overfitting warning: 0\n",
      "epoch: 54, train acc: 0.95496, val acc: 0.9334\n",
      "overfitting warning: 1\n",
      "epoch: 55, train acc: 0.95574, val acc: 0.9334\n",
      "overfitting warning: 2\n",
      "epoch: 56, train acc: 0.95684, val acc: 0.934\n",
      "epoch: 57, train acc: 0.95774, val acc: 0.9351\n",
      "epoch: 58, train acc: 0.95816, val acc: 0.9351\n",
      "epoch: 59, train acc: 0.95912, val acc: 0.9364\n",
      "epoch: 60, train acc: 0.96028, val acc: 0.9381\n",
      "epoch: 61, train acc: 0.96018, val acc: 0.9375\n",
      "epoch: 62, train acc: 0.96262, val acc: 0.9381\n",
      "epoch: 63, train acc: 0.9626, val acc: 0.938\n",
      "epoch: 64, train acc: 0.9636, val acc: 0.9383\n",
      "epoch: 65, train acc: 0.96458, val acc: 0.939\n",
      "epoch: 66, train acc: 0.96464, val acc: 0.9391\n",
      "epoch: 67, train acc: 0.96558, val acc: 0.9383\n",
      "overfitting warning: 0\n",
      "epoch: 68, train acc: 0.96586, val acc: 0.9393\n",
      "epoch: 69, train acc: 0.96698, val acc: 0.9399\n",
      "epoch: 70, train acc: 0.96632, val acc: 0.9395\n",
      "epoch: 71, train acc: 0.96774, val acc: 0.9391\n",
      "overfitting warning: 0\n",
      "epoch: 72, train acc: 0.9688, val acc: 0.94\n",
      "epoch: 73, train acc: 0.96912, val acc: 0.9412\n",
      "epoch: 74, train acc: 0.9704, val acc: 0.9407\n",
      "overfitting warning: 0\n",
      "epoch: 75, train acc: 0.97046, val acc: 0.9417\n",
      "epoch: 76, train acc: 0.97044, val acc: 0.9411\n",
      "epoch: 77, train acc: 0.97124, val acc: 0.9415\n",
      "overfitting warning: 0\n",
      "epoch: 78, train acc: 0.97114, val acc: 0.9414\n",
      "epoch: 79, train acc: 0.97248, val acc: 0.9431\n",
      "epoch: 80, train acc: 0.97164, val acc: 0.942\n",
      "epoch: 81, train acc: 0.97292, val acc: 0.9435\n",
      "epoch: 82, train acc: 0.97212, val acc: 0.9429\n",
      "epoch: 83, train acc: 0.97322, val acc: 0.9432\n",
      "overfitting warning: 0\n",
      "epoch: 84, train acc: 0.97306, val acc: 0.9427\n",
      "epoch: 85, train acc: 0.97476, val acc: 0.9448\n",
      "epoch: 86, train acc: 0.97386, val acc: 0.9431\n",
      "epoch: 87, train acc: 0.97438, val acc: 0.9441\n",
      "overfitting warning: 0\n",
      "epoch: 88, train acc: 0.97506, val acc: 0.9439\n",
      "overfitting warning: 1\n",
      "epoch: 89, train acc: 0.9751, val acc: 0.9436\n",
      "overfitting warning: 2\n",
      "epoch: 90, train acc: 0.97646, val acc: 0.9448\n",
      "epoch: 91, train acc: 0.97602, val acc: 0.9444\n",
      "epoch: 92, train acc: 0.9779, val acc: 0.9447\n",
      "overfitting warning: 0\n",
      "epoch: 93, train acc: 0.9771, val acc: 0.9436\n",
      "epoch: 94, train acc: 0.97828, val acc: 0.9455\n",
      "epoch: 95, train acc: 0.9779, val acc: 0.9447\n",
      "epoch: 96, train acc: 0.97848, val acc: 0.9448\n",
      "overfitting warning: 0\n",
      "epoch: 97, train acc: 0.97804, val acc: 0.9449\n",
      "epoch: 98, train acc: 0.97832, val acc: 0.9458\n",
      "epoch: 99, train acc: 0.9791, val acc: 0.9464\n",
      "epoch: 100, train acc: 0.97918, val acc: 0.9471\n",
      "epoch: 101, train acc: 0.9813, val acc: 0.9474\n",
      "epoch: 102, train acc: 0.98074, val acc: 0.9453\n",
      "epoch: 103, train acc: 0.97898, val acc: 0.9467\n",
      "epoch: 104, train acc: 0.98146, val acc: 0.9486\n",
      "epoch: 105, train acc: 0.98132, val acc: 0.9472\n",
      "epoch: 106, train acc: 0.98204, val acc: 0.9474\n",
      "overfitting warning: 0\n",
      "epoch: 107, train acc: 0.98192, val acc: 0.9491\n",
      "epoch: 108, train acc: 0.98226, val acc: 0.9502\n",
      "epoch: 109, train acc: 0.98324, val acc: 0.9493\n",
      "overfitting warning: 0\n",
      "epoch: 110, train acc: 0.98128, val acc: 0.949\n",
      "epoch: 111, train acc: 0.98256, val acc: 0.9504\n",
      "epoch: 112, train acc: 0.98374, val acc: 0.9504\n",
      "epoch: 113, train acc: 0.98298, val acc: 0.95\n",
      "epoch: 114, train acc: 0.98282, val acc: 0.9493\n",
      "epoch: 115, train acc: 0.98364, val acc: 0.9513\n",
      "epoch: 116, train acc: 0.9845, val acc: 0.9519\n",
      "epoch: 117, train acc: 0.98368, val acc: 0.9519\n",
      "epoch: 118, train acc: 0.9841, val acc: 0.9508\n",
      "overfitting warning: 0\n",
      "epoch: 119, train acc: 0.9835, val acc: 0.951\n",
      "epoch: 120, train acc: 0.98466, val acc: 0.9502\n",
      "overfitting warning: 0\n",
      "epoch: 121, train acc: 0.98468, val acc: 0.9513\n",
      "overfitting warning: 1\n",
      "epoch: 122, train acc: 0.98542, val acc: 0.9502\n",
      "overfitting warning: 2\n",
      "epoch: 123, train acc: 0.98538, val acc: 0.9509\n",
      "epoch: 124, train acc: 0.98542, val acc: 0.951\n",
      "overfitting warning: 0\n",
      "epoch: 125, train acc: 0.98568, val acc: 0.9523\n",
      "epoch: 126, train acc: 0.98596, val acc: 0.9535\n",
      "epoch: 127, train acc: 0.98692, val acc: 0.9529\n",
      "overfitting warning: 0\n",
      "epoch: 128, train acc: 0.98598, val acc: 0.9512\n",
      "epoch: 129, train acc: 0.9845, val acc: 0.952\n",
      "epoch: 130, train acc: 0.98556, val acc: 0.9517\n",
      "overfitting warning: 0\n",
      "epoch: 131, train acc: 0.98626, val acc: 0.9513\n",
      "overfitting warning: 1\n",
      "epoch: 132, train acc: 0.98566, val acc: 0.9507\n",
      "epoch: 133, train acc: 0.98534, val acc: 0.9513\n",
      "epoch: 134, train acc: 0.98342, val acc: 0.9504\n",
      "epoch: 135, train acc: 0.98712, val acc: 0.9518\n",
      "overfitting warning: 0\n",
      "epoch: 136, train acc: 0.98774, val acc: 0.9523\n",
      "overfitting warning: 1\n",
      "epoch: 137, train acc: 0.98664, val acc: 0.9527\n",
      "epoch: 138, train acc: 0.9874, val acc: 0.9526\n",
      "overfitting warning: 0\n",
      "epoch: 139, train acc: 0.98524, val acc: 0.9513\n",
      "epoch: 140, train acc: 0.98496, val acc: 0.9503\n",
      "epoch: 141, train acc: 0.98706, val acc: 0.9531\n",
      "overfitting warning: 0\n",
      "epoch: 142, train acc: 0.98774, val acc: 0.9529\n",
      "overfitting warning: 1\n",
      "epoch: 143, train acc: 0.98626, val acc: 0.953\n",
      "epoch: 144, train acc: 0.98468, val acc: 0.9498\n",
      "epoch: 145, train acc: 0.98596, val acc: 0.9509\n",
      "overfitting warning: 0\n",
      "epoch: 146, train acc: 0.98738, val acc: 0.9532\n",
      "overfitting warning: 1\n",
      "epoch: 147, train acc: 0.98614, val acc: 0.9521\n",
      "epoch: 148, train acc: 0.9868, val acc: 0.9526\n",
      "overfitting warning: 0\n",
      "epoch: 149, train acc: 0.98694, val acc: 0.9537\n",
      "epoch: 150, train acc: 0.98804, val acc: 0.9539\n",
      "epoch: 151, train acc: 0.98582, val acc: 0.9516\n",
      "epoch: 152, train acc: 0.98754, val acc: 0.9512\n",
      "overfitting warning: 0\n",
      "epoch: 153, train acc: 0.98782, val acc: 0.9515\n",
      "overfitting warning: 1\n",
      "epoch: 154, train acc: 0.98884, val acc: 0.9542\n",
      "epoch: 155, train acc: 0.9886, val acc: 0.9544\n",
      "epoch: 156, train acc: 0.98972, val acc: 0.9555\n",
      "epoch: 157, train acc: 0.98956, val acc: 0.954\n"
     ]
    },
    {
     "name": "stdout",
     "output_type": "stream",
     "text": [
      "epoch: 158, train acc: 0.98872, val acc: 0.9532\n",
      "epoch: 159, train acc: 0.9877, val acc: 0.9532\n",
      "epoch: 160, train acc: 0.98838, val acc: 0.9534\n",
      "overfitting warning: 0\n",
      "epoch: 161, train acc: 0.987, val acc: 0.9527\n",
      "epoch: 162, train acc: 0.9875, val acc: 0.9528\n",
      "overfitting warning: 0\n",
      "epoch: 163, train acc: 0.98684, val acc: 0.9532\n",
      "epoch: 164, train acc: 0.98776, val acc: 0.9529\n",
      "overfitting warning: 0\n",
      "epoch: 165, train acc: 0.98572, val acc: 0.9514\n",
      "epoch: 166, train acc: 0.98628, val acc: 0.9517\n",
      "overfitting warning: 0\n",
      "epoch: 167, train acc: 0.98726, val acc: 0.9531\n",
      "overfitting warning: 1\n",
      "epoch: 168, train acc: 0.99078, val acc: 0.9574\n",
      "epoch: 169, train acc: 0.98982, val acc: 0.9567\n",
      "epoch: 170, train acc: 0.9889, val acc: 0.9551\n",
      "epoch: 171, train acc: 0.98782, val acc: 0.953\n",
      "epoch: 172, train acc: 0.98888, val acc: 0.9546\n",
      "overfitting warning: 0\n",
      "epoch: 173, train acc: 0.98738, val acc: 0.9541\n",
      "epoch: 174, train acc: 0.98866, val acc: 0.9555\n",
      "overfitting warning: 0\n",
      "epoch: 175, train acc: 0.98606, val acc: 0.9538\n",
      "epoch: 176, train acc: 0.98924, val acc: 0.9557\n",
      "overfitting warning: 0\n",
      "epoch: 177, train acc: 0.9914, val acc: 0.9569\n",
      "overfitting warning: 1\n",
      "epoch: 178, train acc: 0.98852, val acc: 0.9542\n",
      "epoch: 179, train acc: 0.98816, val acc: 0.955\n",
      "epoch: 180, train acc: 0.98938, val acc: 0.958\n",
      "epoch: 181, train acc: 0.99026, val acc: 0.9576\n",
      "overfitting warning: 0\n",
      "epoch: 182, train acc: 0.99066, val acc: 0.9576\n",
      "overfitting warning: 1\n",
      "epoch: 183, train acc: 0.98808, val acc: 0.956\n",
      "epoch: 184, train acc: 0.98854, val acc: 0.956\n",
      "overfitting warning: 0\n",
      "epoch: 185, train acc: 0.9894, val acc: 0.9574\n",
      "overfitting warning: 1\n",
      "epoch: 186, train acc: 0.98914, val acc: 0.9579\n",
      "epoch: 187, train acc: 0.9891, val acc: 0.9556\n",
      "epoch: 188, train acc: 0.988, val acc: 0.9539\n",
      "epoch: 189, train acc: 0.98928, val acc: 0.9556\n",
      "overfitting warning: 0\n",
      "epoch: 190, train acc: 0.98924, val acc: 0.9551\n",
      "epoch: 191, train acc: 0.98996, val acc: 0.9559\n",
      "overfitting warning: 0\n",
      "epoch: 192, train acc: 0.99156, val acc: 0.9574\n",
      "overfitting warning: 1\n",
      "epoch: 193, train acc: 0.98894, val acc: 0.9556\n",
      "epoch: 194, train acc: 0.99048, val acc: 0.956\n",
      "overfitting warning: 0\n",
      "epoch: 195, train acc: 0.99164, val acc: 0.9596\n",
      "epoch: 196, train acc: 0.99032, val acc: 0.9592\n",
      "overfitting warning: 0\n",
      "epoch: 197, train acc: 0.9906, val acc: 0.9569\n",
      "overfitting warning: 1\n",
      "epoch: 198, train acc: 0.9894, val acc: 0.9572\n",
      "epoch: 199, train acc: 0.99022, val acc: 0.9575\n",
      "overfitting warning: 0\n",
      "epoch: 200, train acc: 0.99064, val acc: 0.9571\n",
      "overfitting warning: 1\n",
      "epoch: 201, train acc: 0.99152, val acc: 0.9592\n",
      "overfitting warning: 2\n",
      "epoch: 202, train acc: 0.98992, val acc: 0.9582\n",
      "epoch: 203, train acc: 0.99084, val acc: 0.9569\n",
      "overfitting warning: 0\n",
      "epoch: 204, train acc: 0.99168, val acc: 0.9597\n",
      "epoch: 205, train acc: 0.99272, val acc: 0.9585\n",
      "overfitting warning: 0\n",
      "epoch: 206, train acc: 0.99192, val acc: 0.9589\n",
      "overfitting warning: 1\n",
      "epoch: 207, train acc: 0.99354, val acc: 0.9604\n",
      "epoch: 208, train acc: 0.99232, val acc: 0.9575\n",
      "overfitting warning: 0\n",
      "epoch: 209, train acc: 0.99036, val acc: 0.9586\n",
      "overfitting warning: 1\n",
      "epoch: 210, train acc: 0.99064, val acc: 0.957\n",
      "overfitting warning: 2\n",
      "epoch: 211, train acc: 0.99254, val acc: 0.9587\n",
      "overfitting warning: 3\n",
      "epoch: 212, train acc: 0.99372, val acc: 0.9603\n",
      "overfitting warning: 4\n",
      "epoch: 213, train acc: 0.99394, val acc: 0.9601\n",
      "early stopped on 213\n"
     ]
    }
   ],
   "source": [
    "# Start training\n",
    "with tf.Session() as sess:\n",
    "    # Run the initializer\n",
    "    sess.run(init)\n",
    "    prev_train_acc = 0.0\n",
    "    max_val_acc = 0.0\n",
    "    \n",
    "    for epoch in range(epoch_cnt):\n",
    "        avg_loss = 0.\n",
    "        start = 0; end = batch_size\n",
    "        \n",
    "        for i in range(iteration):\n",
    "            _, loss = sess.run([train_op, loss_op], \n",
    "                               feed_dict={x: x_train[start: end], \n",
    "                                          y: y_train[start: end], \n",
    "                                          keep_prob: 0.9})\n",
    "            start += batch_size; end += batch_size\n",
    "            # Compute train average loss\n",
    "            avg_loss += loss / iteration\n",
    "            \n",
    "        # Validate model\n",
    "        preds = tf.nn.softmax(logits)  # Apply softmax to logits\n",
    "        correct_prediction = tf.equal(tf.argmax(preds, 1), tf.argmax(y, 1))\n",
    "        # Calculate accuracy\n",
    "        accuracy = tf.reduce_mean(tf.cast(correct_prediction, \"float\"))\n",
    "        # train accuracy\n",
    "        cur_train_acc = accuracy.eval({x: x_train, y: y_train,keep_prob: 1.0})\n",
    "        # validation accuarcy\n",
    "        cur_val_acc = accuracy.eval({x: x_val, y: y_val, keep_prob: 1.0})\n",
    "        # validation loss\n",
    "        cur_val_loss = loss_op.eval({x: x_val, y: y_val,keep_prob: 1.0})\n",
    "        \n",
    "        print(\"epoch: \"+str(epoch)+\n",
    "              \", train acc: \" + str(cur_train_acc) +\n",
    "              \", val acc: \" + str(cur_val_acc) )\n",
    "              #', train loss: '+str(avg_loss)+\n",
    "              #', val loss: '+str(cur_val_loss))\n",
    "        \n",
    "        if cur_val_acc < max_val_acc:\n",
    "            if cur_train_acc > prev_train_acc or cur_train_acc > 0.99:\n",
    "                if earlystop_cnt == earlystop_threshold:\n",
    "                    print(\"early stopped on \"+str(epoch))\n",
    "                    break\n",
    "                else:\n",
    "                    print(\"overfitting warning: \"+str(earlystop_cnt))\n",
    "                    earlystop_cnt += 1\n",
    "            else:\n",
    "                earlystop_cnt = 0\n",
    "        else:\n",
    "            earlystop_cnt = 0\n",
    "            max_val_acc = cur_val_acc\n",
    "            # Save the variables to file.\n",
    "            save_path = saver.save(sess, \"model/model.ckpt\")\n",
    "        prev_train_acc = cur_train_acc"
   ]
  },
  {
   "cell_type": "markdown",
   "metadata": {},
   "source": [
    "# 테스트\n",
    "검증 정확도가 가장 높은 모델을 대상으로 테스트를 진행합니다."
   ]
  },
  {
   "cell_type": "code",
   "execution_count": 25,
   "metadata": {},
   "outputs": [
    {
     "name": "stdout",
     "output_type": "stream",
     "text": [
      "INFO:tensorflow:Restoring parameters from model/model.ckpt\n",
      "[Test Accuracy] : 0.957\n"
     ]
    }
   ],
   "source": [
    "# Start testing\n",
    "with tf.Session() as sess:\n",
    "    # Restore variables from disk.\n",
    "    saver.restore(sess, \"model/model.ckpt\")\n",
    "    correct_prediction = tf.equal(tf.argmax(preds, 1), tf.argmax(y, 1))\n",
    "    # Calculate accuracy\n",
    "    accuracy = tf.reduce_mean(tf.cast(correct_prediction, \"float\"))\n",
    "    print(\"[Test Accuracy] :\", accuracy.eval({x: x_test, y: y_test, keep_prob: 1.0}))"
   ]
  }
 ],
 "metadata": {
  "kernelspec": {
   "display_name": "Python 3",
   "language": "python",
   "name": "python3"
  },
  "language_info": {
   "codemirror_mode": {
    "name": "ipython",
    "version": 3
   },
   "file_extension": ".py",
   "mimetype": "text/x-python",
   "name": "python",
   "nbconvert_exporter": "python",
   "pygments_lexer": "ipython3",
   "version": "3.6.4"
  }
 },
 "nbformat": 4,
 "nbformat_minor": 2
}
